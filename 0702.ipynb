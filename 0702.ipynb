{
 "cells": [
  {
   "cell_type": "code",
   "execution_count": 1,
   "metadata": {},
   "outputs": [
    {
     "data": {
      "text/plain": [
       "my_deferred_acceptance (generic function with 1 method)"
      ]
     },
     "execution_count": 1,
     "metadata": {},
     "output_type": "execute_result"
    }
   ],
   "source": [
    "function my_deferred_acceptance(prop_prefs, resp_prefs, caps)\n",
    "    prop_size = size(prop_prefs, 2) #prop主体数\n",
    "    resp_size = size(resp_prefs, 2) #pref主体数\n",
    "    prop_matched = zeros(Int64, prop_size) #propマッチ相手配列の初期化\n",
    "    resp_matched = zeros(Int64, sum(caps)) #resfマッチ相手配列の初期化\n",
    "    next_prop = zeros(Int64, prop_size) #propが次にプロポーズをする時の回数\n",
    "    max_prop = Int64[] #最大プロポーズ回数配列の初期化\n",
    "    \n",
    "    for p in 1:prop_size\n",
    "        push!(max_prop, find(prop_prefs[:, p] .== 0)[1]-1) #最大プロポーズ回数配列の設定\n",
    "    end\n",
    "    \n",
    "    indptr = Array{Int}(resp_size+1)\n",
    "    indptr[1] = 1\n",
    "    for i in 1:resp_size\n",
    "        indptr[i+1] = indptr[i] + caps[i]\n",
    "    end\n",
    "    \n",
    "    while any(prop_matched .== 0) == true\n",
    "        prop_single = find(prop_matched .== 0) #マッチしてない学生一覧\n",
    "        if all(next_prop[prop_single] .>= max_prop[prop_single]) == true #全員が最大プロポーズ回数をこえていればbreak\n",
    "            break\n",
    "        else\n",
    "            for each_prop_single in prop_single\n",
    "                proposing = prop_prefs[next_prop[each_prop_single]+1, each_prop_single] #次にプロポーズする相手\n",
    "                if proposing != 0\n",
    "                    next_prop[each_prop_single] = next_prop[each_prop_single]+1\n",
    "                    if sum(resp_matched[indptr[j]:indptr[j+1]-1] .== 0) != 0 && (find(resp_prefs[:, proposing] .==each_prop_single) .<  find(resp_prefs[:, proposing] .==0)) == [true]\n",
    "                        prop_matched[each_prop_single] = proposing\n",
    "                        matched_index = findfirst(resp_matched[indptr[j]:indptr[j+1]-1] .== 0)\n",
    "                        resp_matched[matched_index + indptr[proposing] - 1] = each_prop_single\n",
    "                    elseif sum(resp_matched[indptr[j]:indptr[j+1]-1] .== 0) .== 0 #respに0の枠あり\n",
    "                        #&& (find(resp_prefs[:, proposing] .==each_prop_single) .<  find(resp_prefs[:, proposing] .== resp_matched[indptr[j]:indptr[j+1]-1])) == [true]\n",
    "                        current_order = Int64[]\n",
    "                        for i in 1:caps[proposing] push!(current_order, find(resp_prefs[:, proposing] .== resp_matched[indptr[j]:indptr[j+1]-1])[1]) end\n",
    "                        if findmax(current_order)[1] .> find(resp_prefs[:, proposing] .==each_prop_single)\n",
    "                        prop_matched[each_prop_single] = proposing\n",
    "                        prop_matched[resp_matched[findmax(current_order)[2] + indptr[proposing] - 1]] = 0\n",
    "                        resp_matched[findmax(current_order)[2] + indptr[proposing] - 1] = each_prop_single\n",
    "                        end\n",
    "                    end\n",
    "                end\n",
    "            end\n",
    "        end\n",
    "    end\n",
    "       \n",
    "    return prop_matched, resp_matched, indptr\n",
    "end"
   ]
  },
  {
   "cell_type": "code",
   "execution_count": 2,
   "metadata": {},
   "outputs": [
    {
     "data": {
      "text/plain": [
       "4×4 Array{Int64,2}:\n",
       " 3  3  2  3\n",
       " 0  0  1  2\n",
       " 1  2  0  0\n",
       " 2  1  3  1"
      ]
     },
     "execution_count": 2,
     "metadata": {},
     "output_type": "execute_result"
    }
   ],
   "source": [
    "prop_prefs = \n",
    "[3  3  2  3;\n",
    " 0  0  1  2;\n",
    " 1  2  0  0;\n",
    " 2  1  3  1]"
   ]
  },
  {
   "cell_type": "code",
   "execution_count": 3,
   "metadata": {},
   "outputs": [
    {
     "data": {
      "text/plain": [
       "5×3 Array{Int64,2}:\n",
       " 3  3  3\n",
       " 4  4  4\n",
       " 0  2  2\n",
       " 2  1  0\n",
       " 1  0  1"
      ]
     },
     "execution_count": 3,
     "metadata": {},
     "output_type": "execute_result"
    }
   ],
   "source": [
    "resp_prefs = \n",
    "[ 3  3  3;\n",
    " 4  4  4;\n",
    " 0  2  2;\n",
    " 2  1  0;\n",
    " 1  0  1]"
   ]
  },
  {
   "cell_type": "code",
   "execution_count": 4,
   "metadata": {},
   "outputs": [
    {
     "data": {
      "text/plain": [
       "3-element Array{Int64,1}:\n",
       " 2\n",
       " 2\n",
       " 2"
      ]
     },
     "execution_count": 4,
     "metadata": {},
     "output_type": "execute_result"
    }
   ],
   "source": [
    "caps = [2,2,2]"
   ]
  },
  {
   "cell_type": "code",
   "execution_count": 5,
   "metadata": {},
   "outputs": [
    {
     "ename": "LoadError",
     "evalue": "\u001b[91minvalid redefinition of constant my_deferred_acceptance\u001b[39m",
     "output_type": "error",
     "traceback": [
      "\u001b[91minvalid redefinition of constant my_deferred_acceptance\u001b[39m",
      ""
     ]
    }
   ],
   "source": [
    "my_deferred_acceptance = (prop_prefs, resp_prefs, caps)"
   ]
  },
  {
   "cell_type": "code",
   "execution_count": null,
   "metadata": {
    "collapsed": true
   },
   "outputs": [],
   "source": []
  }
 ],
 "metadata": {
  "kernelspec": {
   "display_name": "Julia 0.6.0",
   "language": "julia",
   "name": "julia-0.6"
  },
  "language_info": {
   "file_extension": ".jl",
   "mimetype": "application/julia",
   "name": "julia",
   "version": "0.6.0"
  }
 },
 "nbformat": 4,
 "nbformat_minor": 2
}
