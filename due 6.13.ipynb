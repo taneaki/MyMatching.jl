{
 "cells": [
  {
   "cell_type": "code",
   "execution_count": 294,
   "metadata": {
    "collapsed": false
   },
   "outputs": [
    {
     "data": {
      "text/plain": [
       "3-element Array{Int64,1}:\n",
       " 1\n",
       " 2\n",
       " 3"
      ]
     },
     "execution_count": 294,
     "metadata": {},
     "output_type": "execute_result"
    }
   ],
   "source": [
    "M =[1,2,3]\n",
    "F =[1,2,3]"
   ]
  },
  {
   "cell_type": "code",
   "execution_count": 295,
   "metadata": {
    "collapsed": false
   },
   "outputs": [
    {
     "data": {
      "text/plain": [
       "4x3 Array{Int64,2}:\n",
       " 2  3  2\n",
       " 3  0  1\n",
       " 0  1  3\n",
       " 1  2  0"
      ]
     },
     "execution_count": 295,
     "metadata": {},
     "output_type": "execute_result"
    }
   ],
   "source": [
    "M1 = [2,3,0,1]\n",
    "M2 = [3,0,1,2]\n",
    "M3 = [2,1,3,0]\n",
    "m_prefs = [[M1] [M2] [M3]]"
   ]
  },
  {
   "cell_type": "code",
   "execution_count": 296,
   "metadata": {
    "collapsed": false
   },
   "outputs": [
    {
     "data": {
      "text/plain": [
       "4x3 Array{Int64,2}:\n",
       " 2  1  2\n",
       " 3  3  0\n",
       " 1  0  1\n",
       " 0  2  3"
      ]
     },
     "execution_count": 296,
     "metadata": {},
     "output_type": "execute_result"
    }
   ],
   "source": [
    "F1 = [2,3,1,0]\n",
    "F2 = [1,3,0,2]\n",
    "F3 = [2,0,1,3]\n",
    "f_prefs = [[F1] [F2] [F3]]"
   ]
  },
  {
   "cell_type": "code",
   "execution_count": 297,
   "metadata": {
    "collapsed": false
   },
   "outputs": [
    {
     "data": {
      "text/plain": [
       "3-element Array{Float64,1}:\n",
       " 0.0\n",
       " 0.0\n",
       " 0.0"
      ]
     },
     "execution_count": 297,
     "metadata": {},
     "output_type": "execute_result"
    }
   ],
   "source": [
    "m_matched= zeros(length(M))\n",
    "f_matched= zeros(length(F))"
   ]
  },
  {
   "cell_type": "markdown",
   "metadata": {},
   "source": [
    "とりあえず、男性全員が１回希望リストの最高位の女性にプロポーズする場合を考えてみる。"
   ]
  },
  {
   "cell_type": "code",
   "execution_count": 374,
   "metadata": {
    "collapsed": false
   },
   "outputs": [],
   "source": [
    "for i = [1:length(M)]\n",
    "    if m_prefs[1,i]==0\n",
    "        m_matched[i]=0\n",
    "        else m_matched[i]=m_prefs[1,i]\n",
    "    end\n",
    "    for l in i+1:length(M)\n",
    "        if m_matched[i] == m_matched[l]\n",
    "            if {find(f_prefs[:,m_matched[i]].==i) .< find(f_prefs[:,m_matched[i]].==l)} == trues(1)\n",
    "                m_matched[l] = 0\n",
    "            else\n",
    "                m_matched[i] = 0\n",
    "            end\n",
    "        end\n",
    "    end\n",
    "end"
   ]
  },
  {
   "cell_type": "code",
   "execution_count": 375,
   "metadata": {
    "collapsed": false
   },
   "outputs": [
    {
     "data": {
      "text/plain": [
       "3-element Array{Float64,1}:\n",
       " 0.0\n",
       " 3.0\n",
       " 2.0"
      ]
     },
     "execution_count": 375,
     "metadata": {},
     "output_type": "execute_result"
    }
   ],
   "source": [
    "m_matched"
   ]
  },
  {
   "cell_type": "code",
   "execution_count": null,
   "metadata": {
    "collapsed": true
   },
   "outputs": [],
   "source": []
  }
 ],
 "metadata": {
  "kernelspec": {
   "display_name": "Julia 0.4.5",
   "language": "julia",
   "name": "julia-0.4"
  },
  "language_info": {
   "file_extension": ".jl",
   "mimetype": "application/julia",
   "name": "julia",
   "version": "0.4.5"
  }
 },
 "nbformat": 4,
 "nbformat_minor": 0
}
