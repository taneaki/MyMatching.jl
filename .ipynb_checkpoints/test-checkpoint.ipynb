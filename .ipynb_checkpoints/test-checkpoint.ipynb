{
 "cells": [
  {
   "cell_type": "code",
   "execution_count": 3,
   "metadata": {},
   "outputs": [
    {
     "name": "stderr",
     "output_type": "stream",
     "text": [
      "WARNING: Method definition my_deferred_acceptance(Array{Int64, 2"
     ]
    },
    {
     "data": {
      "text/plain": [
       "my_deferred_acceptance (generic function with 2 methods)"
      ]
     },
     "execution_count": 3,
     "metadata": {},
     "output_type": "execute_result"
    },
    {
     "name": "stderr",
     "output_type": "stream",
     "text": [
      "}, Array{Int64, 2}) in module Main at C:\\Users\\Taneaki.Taneaki-PC\\Documents\\MyMatching.jl\\deferred_acceptance.jl:3 overwritten at C:\\Users\\Taneaki.Taneaki-PC\\Documents\\MyMatching.jl\\deferred_acceptance.jl:3.\n",
      "WARNING: Method definition my_deferred_acceptance(Array{Array{Int64, 1}, 1}, Array{Array{Int64, 1}, 1}) in module Main at C:\\Users\\Taneaki.Taneaki-PC\\Documents\\MyMatching.jl\\deferred_acceptance.jl:40 overwritten at C:\\Users\\Taneaki.Taneaki-PC\\Documents\\MyMatching.jl\\deferred_acceptance.jl:40.\n"
     ]
    }
   ],
   "source": [
    "include(\"deferred_acceptance.jl\")"
   ]
  },
  {
   "cell_type": "code",
   "execution_count": 4,
   "metadata": {},
   "outputs": [],
   "source": [
    "using Matching"
   ]
  },
  {
   "cell_type": "code",
   "execution_count": 5,
   "metadata": {},
   "outputs": [
    {
     "data": {
      "text/plain": [
       "mat2vecs (generic function with 1 method)"
      ]
     },
     "execution_count": 5,
     "metadata": {},
     "output_type": "execute_result"
    }
   ],
   "source": [
    "function mat2vecs{T<:Integer}(prefs::Matrix{T})\n",
    "    return [prefs[1:findfirst(prefs[:, j], 0)-1, j] for j in 1:size(prefs, 2)]\n",
    "end"
   ]
  },
  {
   "cell_type": "code",
   "execution_count": 16,
   "metadata": {},
   "outputs": [
    {
     "data": {
      "text/plain": [
       "(\n",
       "[77 84 … 13 53; 55 24 … 76 80; … ; 7 2 … 87 41; 4 6 … 11 22],\n",
       "\n",
       "[3 9 … 4 3; 7 10 … 8 5; … ; 4 8 … 10 9; 2 6 … 0 4])"
      ]
     },
     "execution_count": 16,
     "metadata": {},
     "output_type": "execute_result"
    }
   ],
   "source": [
    "m_prefs, f_prefs = random_prefs(10, 100)"
   ]
  },
  {
   "cell_type": "code",
   "execution_count": 17,
   "metadata": {},
   "outputs": [
    {
     "data": {
      "text/plain": [
       "([77,51,98,75,56,95,74,40,0,53],[0,0,0,0,0,0,0,0,0,0  …  0,0,0,0,6,0,0,3,0,0])"
      ]
     },
     "execution_count": 17,
     "metadata": {},
     "output_type": "execute_result"
    }
   ],
   "source": [
    "my_deferred_acceptance(m_prefs, f_prefs)"
   ]
  },
  {
   "cell_type": "code",
   "execution_count": null,
   "metadata": {
    "collapsed": true
   },
   "outputs": [],
   "source": []
  }
 ],
 "metadata": {
  "kernelspec": {
   "display_name": "Julia 0.5.1",
   "language": "julia",
   "name": "julia-0.5"
  },
  "language_info": {
   "file_extension": ".jl",
   "mimetype": "application/julia",
   "name": "julia",
   "version": "0.5.1"
  }
 },
 "nbformat": 4,
 "nbformat_minor": 2
}
