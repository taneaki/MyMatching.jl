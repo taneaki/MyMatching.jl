{
 "cells": [
  {
   "cell_type": "code",
   "execution_count": 1,
   "metadata": {
    "collapsed": false
   },
   "outputs": [
    {
     "data": {
      "text/plain": [
       "my_deferred_acceptance (generic function with 2 methods)"
      ]
     },
     "execution_count": 1,
     "metadata": {},
     "output_type": "execute_result"
    }
   ],
   "source": [
    "include(\"deferred_acceptance.jl\")"
   ]
  },
  {
   "cell_type": "code",
   "execution_count": 2,
   "metadata": {
    "collapsed": true
   },
   "outputs": [],
   "source": [
    "using Matching"
   ]
  },
  {
   "cell_type": "code",
   "execution_count": 3,
   "metadata": {
    "collapsed": false
   },
   "outputs": [
    {
     "data": {
      "text/plain": [
       "mat2vecs (generic function with 1 method)"
      ]
     },
     "execution_count": 3,
     "metadata": {},
     "output_type": "execute_result"
    }
   ],
   "source": [
    "function mat2vecs{T<:Integer}(prefs::Matrix{T})\n",
    "    return [prefs[1:findfirst(prefs[:, j], 0)-1, j] for j in 1:size(prefs, 2)]\n",
    "end"
   ]
  },
  {
   "cell_type": "code",
   "execution_count": 9,
   "metadata": {
    "collapsed": false
   },
   "outputs": [
    {
     "data": {
      "text/plain": [
       "(Array{Int64,1}[[4,2],[4,3,1],[2,1,3,4],[4,3,2,1]],Array{Int64,1}[[2,4],[3,1,4],[3],[4,1,2]])"
      ]
     },
     "execution_count": 9,
     "metadata": {},
     "output_type": "execute_result"
    }
   ],
   "source": [
    "m_prefs, f_prefs = mat2vecs.(random_prefs(4, 4))"
   ]
  },
  {
   "cell_type": "code",
   "execution_count": 10,
   "metadata": {
    "collapsed": false
   },
   "outputs": [
    {
     "data": {
      "text/plain": [
       "([0,1,2,4],[2,3,0,4])"
      ]
     },
     "execution_count": 10,
     "metadata": {},
     "output_type": "execute_result"
    }
   ],
   "source": [
    "my_deferred_acceptance(m_prefs, f_prefs)"
   ]
  },
  {
   "cell_type": "code",
   "execution_count": null,
   "metadata": {
    "collapsed": true
   },
   "outputs": [],
   "source": [
    "function my_deferred_acceptance(m_prefs::Vector{Vector{Int}},\n",
    "                             f_prefs::Vector{Vector{Int}})\n",
    "    function prefs_2d(x, y)\n",
    "        \n",
    "    end\n",
    "    \n",
    "    m_prefs_2d = Array{Int64}(length(f_prefs)+1, length(m_prefs))\n",
    "    for i in 1:length(m_prefs)\n",
    "        if length(m_prefs[i]) != length(f_prefs)\n",
    "            x = vcat(m_prefs[i], 0)\n",
    "            x = vcat(x, setdiff([i for i in 1:length(f_prefs)], m_prefs[i]))\n",
    "            m_prefs_2d[:,i] = x\n",
    "        else\n",
    "            m_prefs_2d[:,i] = vcat(m_prefs[i], 0)\n",
    "        end\n",
    "    end\n",
    "    f_prefs_2d = Array{Int64}(length(m_prefs)+1, length(f_prefs))\n",
    "    for i in 1:length(f_prefs)\n",
    "        if length(f_prefs[i]) != length(m_prefs)\n",
    "            x = vcat(f_prefs[i], 0)\n",
    "            x = vcat(x, setdiff([i for i in 1:length(m_prefs)], f_prefs[i]))\n",
    "            f_prefs_2d[:,i] = x\n",
    "        else\n",
    "            f_prefs_2d[:,i] = vcat(f_prefs[i], 0)\n",
    "        end\n",
    "    end        \n",
    "    return my_deferred_acceptance(m_prefs_2d, f_prefs_2d)\n",
    "end"
   ]
  }
 ],
 "metadata": {
  "kernelspec": {
   "display_name": "Julia 0.5.1",
   "language": "julia",
   "name": "julia-0.5"
  },
  "language_info": {
   "file_extension": ".jl",
   "mimetype": "application/julia",
   "name": "julia",
   "version": "0.5.1"
  }
 },
 "nbformat": 4,
 "nbformat_minor": 2
}
